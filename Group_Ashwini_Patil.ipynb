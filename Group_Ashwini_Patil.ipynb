{
 "cells": [
  {
   "cell_type": "markdown",
   "id": "aa24e769",
   "metadata": {},
   "source": [
    "# Loan Default Risk Analysis\n",
    "EDA Case Study"
   ]
  },
  {
   "cell_type": "markdown",
   "id": "864a6af1",
   "metadata": {},
   "source": [
    "## Business Problem\n",
    "- Identify key drivers of loan default.\n",
    "- Minimize credit loss by denying or adjusting risky loans."
   ]
  },
  {
   "cell_type": "code",
   "execution_count": null,
   "id": "70b7ada1",
   "metadata": {},
   "outputs": [],
   "source": [
    "import pandas as pd\n",
    "import matplotlib.pyplot as plt\n",
    "import seaborn as sns\n",
    "import numpy as np\n",
    "\n",
    "%matplotlib inline"
   ]
  },
  {
   "cell_type": "code",
   "execution_count": null,
   "id": "92155150",
   "metadata": {},
   "outputs": [],
   "source": [
    "# Load data\n",
    "loan_df = pd.read_csv('/content/sample_data/loan.csv', low_memory=False)\n",
    "loan_df.shape"
   ]
  },
  {
   "cell_type": "markdown",
   "id": "19e78737",
   "metadata": {},
   "source": [
    "## Data Cleaning\n",
    "- Drop columns with >80% missing\n",
    "- Drop ID columns"
   ]
  },
  {
   "cell_type": "code",
   "execution_count": null,
   "id": "baf62813",
   "metadata": {},
   "outputs": [],
   "source": [
    "# Drop columns with >80% missing\n",
    "def drop_high_na(df, threshold=0.8):\n",
    "    return df.loc[:, df.isnull().mean() < threshold]\n",
    "\n",
    "loan_df = drop_high_na(loan_df)\n",
    "loan_df.drop(['id', 'member_id'], axis=1, inplace=True, errors='ignore')\n",
    "loan_df.shape"
   ]
  },
  {
   "cell_type": "markdown",
   "id": "52c5c22b",
   "metadata": {},
   "source": [
    "## Univariate Analysis\n",
    "- Distribution of target variable\n",
    "- Distribution of key features"
   ]
  },
  {
   "cell_type": "code",
   "execution_count": null,
   "id": "bcdc7f1c",
   "metadata": {},
   "outputs": [],
   "source": [
    "loan_df['loan_status'].value_counts(normalize=True).plot(kind='bar')\n",
    "plt.title('Loan Status Distribution')\n",
    "plt.show()"
   ]
  },
  {
   "cell_type": "markdown",
   "id": "fb7270c4",
   "metadata": {},
   "source": [
    "## Derived Target Variable: is_default"
   ]
  },
  {
   "cell_type": "code",
   "execution_count": null,
   "id": "3d8241c5",
   "metadata": {},
   "outputs": [],
   "source": [
    "loan_df['is_default'] = loan_df['loan_status'].apply(lambda x: 1 if x == 'Charged Off' else 0)\n",
    "loan_df['is_default'].value_counts()"
   ]
  },
  {
   "cell_type": "markdown",
   "id": "f8a2a3e6",
   "metadata": {},
   "source": [
    "## Bivariate Analysis\n",
    "- Compare interest rate, loan amount, grade by default status"
   ]
  },
  {
   "cell_type": "code",
   "execution_count": null,
   "id": "9eed6ab4",
   "metadata": {},
   "outputs": [],
   "source": [
    "sns.boxplot(x='is_default', y='int_rate', data=loan_df)\n",
    "plt.title('Interest Rate vs Default')\n",
    "plt.show()"
   ]
  },
  {
   "cell_type": "markdown",
   "id": "e2636f3d",
   "metadata": {},
   "source": [
    "## Conclusions\n",
    "- Higher interest rates lead to higher defaults\n",
    "- Certain purposes (e.g., small_business) have higher default rates\n",
    "- Grade and sub_grade are strong predictors"
   ]
  }
 ],
 "metadata": {
  "language_info": {
   "name": "python"
  }
 },
 "nbformat": 4,
 "nbformat_minor": 5
}
